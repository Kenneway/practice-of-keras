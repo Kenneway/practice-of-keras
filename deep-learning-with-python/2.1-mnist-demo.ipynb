{
 "cells": [
  {
   "cell_type": "code",
   "execution_count": 1,
   "metadata": {},
   "outputs": [
    {
     "name": "stderr",
     "output_type": "stream",
     "text": [
      "Using TensorFlow backend.\n"
     ]
    }
   ],
   "source": [
    "from keras.datasets import mnist\n",
    "(train_images, train_labels), (test_images, test_labels) = mnist.load_data()"
   ]
  },
  {
   "cell_type": "code",
   "execution_count": 2,
   "metadata": {},
   "outputs": [
    {
     "name": "stdout",
     "output_type": "stream",
     "text": [
      "3\n",
      "(60000, 28, 28)\n",
      "60000\n",
      "uint8\n"
     ]
    }
   ],
   "source": [
    "print train_images.ndim\n",
    "print train_images.shape\n",
    "print len(train_images)\n",
    "print train_images.dtype"
   ]
  },
  {
   "cell_type": "code",
   "execution_count": 9,
   "metadata": {},
   "outputs": [
    {
     "data": {
      "image/png": "[encoded data removed]",
      "text/plain": [
       "<matplotlib.figure.Figure at 0x7fd1a85744d0>"
      ]
     },
     "metadata": {},
     "output_type": "display_data"
    }
   ],
   "source": [
    "digit = train_images[7]\n",
    "\n",
    "import matplotlib.pyplot as plt\n",
    "%matplotlib inline\n",
    "plt.imshow(digit, cmap=plt.cm.binary)\n",
    "plt.show()"
   ]
  },
  {
   "cell_type": "code",
   "execution_count": 16,
   "metadata": {},
   "outputs": [
    {
     "name": "stdout",
     "output_type": "stream",
     "text": [
      "(2, 14, 14)\n"
     ]
    }
   ],
   "source": [
    "my_slice = train_images[10: 12, 7:-7, 7:-7]\n",
    "print my_slice.shape"
   ]
  },
  {
   "cell_type": "code",
   "execution_count": 17,
   "metadata": {},
   "outputs": [
    {
     "name": "stdout",
     "output_type": "stream",
     "text": [
      "[[[  0   0   0   0 104 244 254 224 254 254 254 141   0   0]\n",
      "  [  0   0   0   0   0 207 254 210 254 254 254  34   0   0]\n",
      "  [  0   0   0   0   0  84 206 254 254 254 254  41   0   0]\n",
      "  [  0   0   0   0   0   0  24 209 254 254 254 171   0   0]\n",
      "  [  0   0   0   0   0  91 137 253 254 254 254 112   0   0]\n",
      "  [  0   0   0  40 214 250 254 254 254 254 254  34   0   0]\n",
      "  [  0   0   0  81 247 254 254 254 254 254 254 146   0   0]\n",
      "  [  0   0   0   0 110 246 254 254 254 254 254 171   0   0]\n",
      "  [  0   0   0   0   0  73  89  89  93 240 254 171   0   0]\n",
      "  [  0   0   0   0   0   0   0   0   1 128 254 219  31   0]\n",
      "  [  0   0   0   0   0   0   0   0   7 254 254 214  28   0]\n",
      "  [  0   0   0   0   0   0   0   0 138 254 254 116   0   0]\n",
      "  [177  90   0   0   0   0   0  25 240 254 254  34   0   0]\n",
      "  [254 215  63  36   0  51  89 206 254 254 139   8   0   0]]\n",
      "\n",
      " [[  0   0   0   0   0   0   0   0   0   0   0   0   0  31]\n",
      "  [  0   0   0   0   0   0   0   0   0   0   0  68 150 239]\n",
      "  [  0   0   0   0   0   0   0   0   0 156 201 254 254 254]\n",
      "  [  0   0   0   0   0   0   0  19 154 254 236 203  83  39]\n",
      "  [  0   0   0   0   0   0   0 144 253 145  12   0   0   0]\n",
      "  [  0   0   0   0  10 129 222  78  79   8   0   0   0   0]\n",
      "  [  0   0   0   0 134 253 167   8   0   0   0   0   0   0]\n",
      "  [  0   0   0   0 255 254  78   0   0   0   0   0   0   0]\n",
      "  [  0   0   0   0 201 253 226  69   0   0   0   0   0   0]\n",
      "  [  0  55   6   0  18 128 253 241  41   0   0   0   0   0]\n",
      "  [205 235  92   0   0  20 253 253  58   0   0   0   0   0]\n",
      "  [245 108   0   0   0 132 253 185  14   0   0   0   0   0]\n",
      "  [245 254 254 254 217 254 223  50   0   0   0   0   0   0]\n",
      "  [116 165 233 233 234 180  39   3   0   0   0   0   0   0]]]\n"
     ]
    }
   ],
   "source": [
    "print my_slice"
   ]
  },
  {
   "cell_type": "code",
   "execution_count": 7,
   "metadata": {
    "collapsed": true
   },
   "outputs": [],
   "source": [
    "from keras import models\n",
    "from keras import layers\n",
    "\n",
    "network = models.Sequential()\n",
    "network.add(layers.Dense(512, \n",
    "                         activation='relu', \n",
    "                         input_shape=(28 * 28, )\n",
    "                        )\n",
    "           )\n",
    "network.add(layers.Dense(10, activation='softmax'))"
   ]
  },
  {
   "cell_type": "code",
   "execution_count": 8,
   "metadata": {
    "collapsed": true
   },
   "outputs": [],
   "source": [
    "network.compile(optimizer='rmsprop',\n",
    "                loss='categorical_crossentropy',\n",
    "                metrics=['accuracy']\n",
    "               )"
   ]
  },
  {
   "cell_type": "code",
   "execution_count": 9,
   "metadata": {
    "collapsed": true
   },
   "outputs": [],
   "source": [
    "train_images = train_images.reshape((60000, 28 * 28)).astype('float32') / 255\n",
    "test_images = test_images.reshape((10000, 28 * 28)).astype('float32') / 255"
   ]
  },
  {
   "cell_type": "code",
   "execution_count": 10,
   "metadata": {
    "collapsed": true
   },
   "outputs": [],
   "source": [
    "from keras.utils import to_categorical\n",
    "\n",
    "train_labels = to_categorical(train_labels)\n",
    "test_labels = to_categorical(test_labels)"
   ]
  },
  {
   "cell_type": "code",
   "execution_count": 11,
   "metadata": {},
   "outputs": [
    {
     "name": "stdout",
     "output_type": "stream",
     "text": [
      "Epoch 1/5\n",
      "60000/60000 [==============================] - 2s - loss: 0.2561 - acc: 0.9264     \n",
      "Epoch 2/5\n",
      "60000/60000 [==============================] - 1s - loss: 0.1036 - acc: 0.9700     \n",
      "Epoch 3/5\n",
      "60000/60000 [==============================] - 1s - loss: 0.0682 - acc: 0.9795     \n",
      "Epoch 4/5\n",
      "60000/60000 [==============================] - 1s - loss: 0.0502 - acc: 0.9849     \n",
      "Epoch 5/5\n",
      "60000/60000 [==============================] - 1s - loss: 0.0378 - acc: 0.9887     \n"
     ]
    },
    {
     "data": {
      "text/plain": [
       "<keras.callbacks.History at 0x7ff4c14cf8d0>"
      ]
     },
     "execution_count": 11,
     "metadata": {},
     "output_type": "execute_result"
    }
   ],
   "source": [
    "network.fit(train_images,\n",
    "            train_labels,\n",
    "            epochs=5,\n",
    "            batch_size=128\n",
    "           )"
   ]
  },
  {
   "cell_type": "code",
   "execution_count": 13,
   "metadata": {},
   "outputs": [
    {
     "name": "stdout",
     "output_type": "stream",
     "text": [
      " 8576/10000 [========================>.....] - ETA: 0s\n",
      "0.9807\n"
     ]
    }
   ],
   "source": [
    "test_loss, test_acc = network.evaluate(test_images, test_labels)\n",
    "print \n",
    "print test_acc"
   ]
  },
  {
   "cell_type": "code",
   "execution_count": null,
   "metadata": {
    "collapsed": true
   },
   "outputs": [],
   "source": []
  }
 ],
 "metadata": {
  "kernelspec": {
   "display_name": "Python [conda env:keras]",
   "language": "python",
   "name": "conda-env-keras-py"
  },
  "language_info": {
   "codemirror_mode": {
    "name": "ipython",
    "version": 2
   },
   "file_extension": ".py",
   "mimetype": "text/x-python",
   "name": "python",
   "nbconvert_exporter": "python",
   "pygments_lexer": "ipython2",
   "version": "2.7.13"
  }
 },
 "nbformat": 4,
 "nbformat_minor": 2
}
